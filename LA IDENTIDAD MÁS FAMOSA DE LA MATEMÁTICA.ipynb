{
 "cells": [
  {
   "cell_type": "markdown",
   "metadata": {},
   "source": [
    "#  <div style=\"text-align:center\"><span style=\"color:black\"><u>LA IDENTIDAD MÁS FAMOSA DE LA MATEMÁTICA</u></span> </div>"
   ]
  },
  {
   "cell_type": "markdown",
   "metadata": {},
   "source": [
    "<div><img src=\"http://matryc.catedu.es/wp-content/uploads/2017/12/identidad-Euler-Mar%C3%ADa-G-1.jpg\" width=\"40%\"/></div>"
   ]
  },
  {
   "cell_type": "markdown",
   "metadata": {},
   "source": [
    "### INTRODUCCIÓN:\n",
    "\n",
    "El matemático y físico suizo Leonhard Euler nació un 15 de abril, concretamente de 1707, y es considerado el principal matemático del siglo XVIII y uno de los más grandes y prolíficos de todos los tiempos.\n",
    "\n",
    "La belleza de esta fórmula radica en su extraordinaria sencillez y en el hecho de que se podría decir que en ella está resumida casi toda la matemática.\n",
    "\n",
    "En ella encontramos los conceptos de suma, multiplicación, exponenciación e identidad. Tenemos también, los cinco números fundamentales:\n"
   ]
  },
  {
   "cell_type": "markdown",
   "metadata": {},
   "source": [
    "####  <p style=\"color:black;\">El número $\\epsilon$</p>\n",
    "\n",
    "<div><img src=\"https://i1.wp.com/matematicascercanas.com/wp-content/uploads/2014/10/eposter-bmp.jpg?resize=194%2C300&ssl=1\" width=\"14%\"/></div>\n",
    "\n",
    "<div style=\"text-align:center\"><span style=\"color:black\">Es el número más importante del análisis matemático</span> </div>"
   ]
  },
  {
   "cell_type": "markdown",
   "metadata": {},
   "source": [
    "####  <p style=\"color:black;\">El número $\\pi$</p>\n",
    "\n",
    "<div><img src=\"https://i1.wp.com/matematicascercanas.com/wp-content/uploads/2014/02/860b6-piposter01-bmp.jpg?w=207&ssl=1\" width=\"14%\"/></div>\n",
    "\n",
    "<div style=\"text-align:center\"><span style=\"color:black\">Es el número más importante de la geometría</span> </div>"
   ]
  },
  {
   "cell_type": "markdown",
   "metadata": {},
   "source": [
    "#### <p style=\"color:black;\">El número i</p>\n",
    "\n",
    "<div><img src=\"https://i0.wp.com/matematicascercanas.com/wp-content/uploads/2014/10/numeroi.png?resize=300%2C143&ssl=1\" width=\"14%\"/></div>\n",
    "\n",
    "<div style=\"text-align:center\"><span style=\"color:black\">Es el número más importante del álgebra </span>  </div>"
   ]
  },
  {
   "cell_type": "markdown",
   "metadata": {},
   "source": [
    "Los números <b>0</b> y <b>1</b>, que son las bases de la aritmética por ser los elementos neutros, respectivamente, de la adición y la multiplicación.\n",
    "\n",
    "Todos estos números tienen aplicaciones prácticas dentro de los campos de la comunicación, energía, la navegación o la medicina entre muchas otras.\n"
   ]
  },
  {
   "cell_type": "markdown",
   "metadata": {},
   "source": [
    "### FÓRMULAS MATEMÁTICAS:"
   ]
  },
  {
   "cell_type": "markdown",
   "metadata": {},
   "source": [
    "\n",
    "<div style=\"text-align:center\"><span style=\"color:black\">Un número complejo es aquél que se representa mediante una parte real y una parte imaginaria, si definimos a <b>z</b> como un complejo, <b>x</b> su parte real e <b>y</b> su parte imaginaria, este quedaría así:</span> </div>\n",
    "$$z=x+{iy}$$\n",
    "\n",
    "\n",
    "<div style=\"text-align:center\"><span style=\"color:black\">Donde <b>i</b> es el número imaginario, definido como la raíz cuadrada de-1:</span> </div>\n",
    "$$\\sqrt{-1}=i$$\n",
    "\n",
    "\n",
    "<div style=\"text-align:center\"><span style=\"color:black\">Ahora, si tomo al famoso numero <b>e</b> y lo potencio con el número complejo <b>z</b>:</span> </div>\n",
    "$$e^z=e^{x+{iy}}={e^x}{e^{iy}}$$\n",
    "\n",
    "<div style=\"text-align:center\"><span style=\"color:black\">Mediante series numéricas, Euler encontró que:</span> </div>\n",
    "$$e^{iy}=cosy+ i*seny$$\n",
    "\n",
    "<div style=\"text-align:center\"><span style=\"color:black\">Esta es conocida como la fórmula de Euler, que define la exponenciación compleja. Es una fórmula de gran sutileza y precisión. Pero si hacemos un análisis más minucioso podemos llegar a más aún:</span> </div>\n",
    "$$e^z=e^x({cosy+ i*seny})$$\n",
    "\n",
    "<div style=\"text-align:center\"><span style=\"color:black\">Si hacemos que <b>x</b> valga 0 y que <b>y</b> tome el valor de pi:</span> </div>\n",
    "$$e^{i\\pi}=cos{\\pi}+i*sen{\\pi}$$\n",
    "\n",
    "<div style=\"text-align:center\"><span style=\"color:black\">A su vez, sabemos que el seno de pi es cero y el coseno de pi vale -1, entonces:</span> </div>\n",
    "$$e^{i\\pi}=-1$$\n",
    "\n",
    "<div style=\"text-align:center\"><span style=\"color:black\">Esta es la identidad de Euler, considerada como decía por muchas personas como la ecuación más elegante de las matemáticas.:</span> </div>\n",
    "$$e^{i\\pi} + 1 = 0$$"
   ]
  },
  {
   "cell_type": "markdown",
   "metadata": {},
   "source": [
    "### CONCLUSIÓN:\n",
    "\n",
    "La Identidad de Euler, es una fórmula sencilla a simple vista pero muy profunda en cuanto a implicaciones, que conecta una serie de componentes esenciales en aparencia no relacionados de forma muy concisa"
   ]
  },
  {
   "cell_type": "markdown",
   "metadata": {},
   "source": [
    "### ENLACES:\n",
    "\n",
    "[Identidad de Euler-Wikipedia](https://es.wikipedia.org/wiki/Identidad_de_Euler)\n",
    "\n",
    "[Identidad de Euler-elpais](https://elpais.com/elpais/2017/03/29/el_aleph/1490804008_573165.html)\n",
    "\n",
    "[Identidad de Euler-bbc](https://www.bbc.com/mundo/noticias-54395424)\n"
   ]
  },
  {
   "cell_type": "markdown",
   "metadata": {},
   "source": [
    "### REFERENCIA BIBLIOGRAFICA\n",
    "\n",
    "William Dunham, Euler: el maestro de todos los matemáticos.\n",
    "Para acceder dale click aquí <span style=\"color:darkblue\">el maestro de todos los matemáticos</span>\n",
    "\n",
    "https://tiopetrus.blogia.com/2004/090701-euler.-el-maestro-de-todos-los-matem-ticos.php"
   ]
  }
 ],
 "metadata": {
  "kernelspec": {
   "display_name": "Python 3",
   "language": "python",
   "name": "python3"
  },
  "language_info": {
   "codemirror_mode": {
    "name": "ipython",
    "version": 3
   },
   "file_extension": ".py",
   "mimetype": "text/x-python",
   "name": "python",
   "nbconvert_exporter": "python",
   "pygments_lexer": "ipython3",
   "version": "3.8.5"
  }
 },
 "nbformat": 4,
 "nbformat_minor": 4
}
